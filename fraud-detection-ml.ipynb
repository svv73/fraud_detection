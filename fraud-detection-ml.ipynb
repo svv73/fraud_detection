{
 "cells": [
  {
   "cell_type": "code",
   "execution_count": 1,
   "metadata": {
    "collapsed": true,
    "pycharm": {
     "name": "#%%\n"
    }
   },
   "outputs": [
    {
     "name": "stderr",
     "output_type": "stream",
     "text": [
      "d:\\projects\\pycharm\\fraud_detection\\venv\\lib\\site-packages\\xgboost\\compat.py:36: FutureWarning: pandas.Int64Index is deprecated and will be removed from pandas in a future version. Use pandas.Index with the appropriate dtype instead.\n",
      "  from pandas import MultiIndex, Int64Index\n"
     ]
    }
   ],
   "source": [
    "import pandas as pd\n",
    "import datetime\n",
    "import sklearn\n",
    "import xgboost as xgboost\n",
    "from sklearn.metrics import roc_auc_score\n",
    "\n",
    "import warnings\n",
    "warnings.filterwarnings('ignore')"
   ]
  },
  {
   "cell_type": "code",
   "execution_count": 2,
   "outputs": [],
   "source": [
    "def scaleData(train,test,features):\n",
    "    scaler = sklearn.preprocessing.StandardScaler()\n",
    "    scaler.fit(train[features])\n",
    "    train[features]=scaler.transform(train[features])\n",
    "    test[features]=scaler.transform(test[features])\n",
    "\n",
    "    return (train,test)"
   ],
   "metadata": {
    "collapsed": false,
    "pycharm": {
     "name": "#%%\n"
    }
   }
  },
  {
   "cell_type": "code",
   "execution_count": 3,
   "outputs": [],
   "source": [
    "def get_train_test_set(transactions_df,\n",
    "                       start_date_training,\n",
    "                       delta_train=7,delta_delay=7,delta_test=7):\n",
    "\n",
    "    # Get the training set data\n",
    "    train_df = transactions_df[(transactions_df.TX_DATETIME>=start_date_training) &\n",
    "                               (transactions_df.TX_DATETIME<start_date_training+datetime.timedelta(days=delta_train))]\n",
    "\n",
    "    # Get the test set data\n",
    "    test_df = []\n",
    "\n",
    "    # Note: Cards known to be compromised after the delay period are removed from the test set\n",
    "    # That is, for each test day, all frauds known at (test_day-delay_period) are removed\n",
    "\n",
    "    # First, get known defrauded customers from the training set\n",
    "    known_defrauded_customers = set(train_df[train_df.TX_FRAUD==1].CUSTOMER_ID)\n",
    "\n",
    "    # Get the relative starting day of training set (easier than TX_DATETIME to collect test data)\n",
    "    start_tx_time_days_training = train_df.TX_TIME_DAYS.min()\n",
    "\n",
    "    # Then, for each day of the test set\n",
    "    for day in range(delta_test):\n",
    "\n",
    "        # Get test data for that day\n",
    "        test_df_day = transactions_df[transactions_df.TX_TIME_DAYS==start_tx_time_days_training+\n",
    "                                                                    delta_train+delta_delay+\n",
    "                                                                    day]\n",
    "\n",
    "        # Compromised cards from that test day, minus the delay period, are added to the pool of known defrauded customers\n",
    "        test_df_day_delay_period = transactions_df[transactions_df.TX_TIME_DAYS==start_tx_time_days_training+\n",
    "                                                                                delta_train+\n",
    "                                                                                day-1]\n",
    "\n",
    "        new_defrauded_customers = set(test_df_day_delay_period[test_df_day_delay_period.TX_FRAUD==1].CUSTOMER_ID)\n",
    "        known_defrauded_customers = known_defrauded_customers.union(new_defrauded_customers)\n",
    "\n",
    "        test_df_day = test_df_day[~test_df_day.CUSTOMER_ID.isin(known_defrauded_customers)]\n",
    "\n",
    "        test_df.append(test_df_day)\n",
    "\n",
    "    test_df = pd.concat(test_df)\n",
    "\n",
    "    # Sort data sets by ascending order of transaction ID\n",
    "    train_df=train_df.sort_values('TRANSACTION_ID')\n",
    "    test_df=test_df.sort_values('TRANSACTION_ID')\n",
    "\n",
    "    return (train_df, test_df)"
   ],
   "metadata": {
    "collapsed": false,
    "pycharm": {
     "name": "#%%\n"
    }
   }
  },
  {
   "cell_type": "code",
   "execution_count": 4,
   "outputs": [],
   "source": [
    "transactions_df = pd.read_csv('simulated-data-raw/trs.csv', parse_dates=['TX_DATETIME'])"
   ],
   "metadata": {
    "collapsed": false,
    "pycharm": {
     "name": "#%%\n"
    }
   }
  },
  {
   "cell_type": "code",
   "execution_count": 5,
   "outputs": [
    {
     "data": {
      "text/plain": "   Unnamed: 0  TRANSACTION_ID         TX_DATETIME  CUSTOMER_ID  TERMINAL_ID  \\\n0           0               0 2021-07-01 00:00:31          596         3156   \n1           1               1 2021-07-01 00:02:10         4961         3412   \n2           2               2 2021-07-01 00:07:56            2         1365   \n3           3               3 2021-07-01 00:09:29         4128         8737   \n4           4               4 2021-07-01 00:10:34          927         9906   \n\n   TX_AMOUNT  TX_TIME_SECONDS  TX_TIME_DAYS  TX_FRAUD  TX_FRAUD_SCENARIO  ...  \\\n0    1143.26               31             0         0                  0  ...   \n1    1630.23              130             0         0                  0  ...   \n2    2920.00              476             0         0                  0  ...   \n3    1289.88              569             0         0                  0  ...   \n4    1019.77              634             0         0                  0  ...   \n\n   CUSTOMER_ID_NB_TX_7DAY_WINDOW  CUSTOMER_ID_AVG_AMOUNT_7DAY_WINDOW  \\\n0                            1.0                             1143.26   \n1                            1.0                             1630.23   \n2                            1.0                             2920.00   \n3                            1.0                             1289.88   \n4                            1.0                             1019.77   \n\n   CUSTOMER_ID_NB_TX_30DAY_WINDOW  CUSTOMER_ID_AVG_AMOUNT_30DAY_WINDOW  \\\n0                             1.0                              1143.26   \n1                             1.0                              1630.23   \n2                             1.0                              2920.00   \n3                             1.0                              1289.88   \n4                             1.0                              1019.77   \n\n   TERMINAL_ID_NB_TX_1DAY_WINDOW  TERMINAL_ID_RISK_1DAY_WINDOW  \\\n0                            0.0                           0.0   \n1                            0.0                           0.0   \n2                            0.0                           0.0   \n3                            0.0                           0.0   \n4                            0.0                           0.0   \n\n   TERMINAL_ID_NB_TX_7DAY_WINDOW  TERMINAL_ID_RISK_7DAY_WINDOW  \\\n0                            0.0                           0.0   \n1                            0.0                           0.0   \n2                            0.0                           0.0   \n3                            0.0                           0.0   \n4                            0.0                           0.0   \n\n   TERMINAL_ID_NB_TX_30DAY_WINDOW  TERMINAL_ID_RISK_30DAY_WINDOW  \n0                             0.0                            0.0  \n1                             0.0                            0.0  \n2                             0.0                            0.0  \n3                             0.0                            0.0  \n4                             0.0                            0.0  \n\n[5 rows x 24 columns]",
      "text/html": "<div>\n<style scoped>\n    .dataframe tbody tr th:only-of-type {\n        vertical-align: middle;\n    }\n\n    .dataframe tbody tr th {\n        vertical-align: top;\n    }\n\n    .dataframe thead th {\n        text-align: right;\n    }\n</style>\n<table border=\"1\" class=\"dataframe\">\n  <thead>\n    <tr style=\"text-align: right;\">\n      <th></th>\n      <th>Unnamed: 0</th>\n      <th>TRANSACTION_ID</th>\n      <th>TX_DATETIME</th>\n      <th>CUSTOMER_ID</th>\n      <th>TERMINAL_ID</th>\n      <th>TX_AMOUNT</th>\n      <th>TX_TIME_SECONDS</th>\n      <th>TX_TIME_DAYS</th>\n      <th>TX_FRAUD</th>\n      <th>TX_FRAUD_SCENARIO</th>\n      <th>...</th>\n      <th>CUSTOMER_ID_NB_TX_7DAY_WINDOW</th>\n      <th>CUSTOMER_ID_AVG_AMOUNT_7DAY_WINDOW</th>\n      <th>CUSTOMER_ID_NB_TX_30DAY_WINDOW</th>\n      <th>CUSTOMER_ID_AVG_AMOUNT_30DAY_WINDOW</th>\n      <th>TERMINAL_ID_NB_TX_1DAY_WINDOW</th>\n      <th>TERMINAL_ID_RISK_1DAY_WINDOW</th>\n      <th>TERMINAL_ID_NB_TX_7DAY_WINDOW</th>\n      <th>TERMINAL_ID_RISK_7DAY_WINDOW</th>\n      <th>TERMINAL_ID_NB_TX_30DAY_WINDOW</th>\n      <th>TERMINAL_ID_RISK_30DAY_WINDOW</th>\n    </tr>\n  </thead>\n  <tbody>\n    <tr>\n      <th>0</th>\n      <td>0</td>\n      <td>0</td>\n      <td>2021-07-01 00:00:31</td>\n      <td>596</td>\n      <td>3156</td>\n      <td>1143.26</td>\n      <td>31</td>\n      <td>0</td>\n      <td>0</td>\n      <td>0</td>\n      <td>...</td>\n      <td>1.0</td>\n      <td>1143.26</td>\n      <td>1.0</td>\n      <td>1143.26</td>\n      <td>0.0</td>\n      <td>0.0</td>\n      <td>0.0</td>\n      <td>0.0</td>\n      <td>0.0</td>\n      <td>0.0</td>\n    </tr>\n    <tr>\n      <th>1</th>\n      <td>1</td>\n      <td>1</td>\n      <td>2021-07-01 00:02:10</td>\n      <td>4961</td>\n      <td>3412</td>\n      <td>1630.23</td>\n      <td>130</td>\n      <td>0</td>\n      <td>0</td>\n      <td>0</td>\n      <td>...</td>\n      <td>1.0</td>\n      <td>1630.23</td>\n      <td>1.0</td>\n      <td>1630.23</td>\n      <td>0.0</td>\n      <td>0.0</td>\n      <td>0.0</td>\n      <td>0.0</td>\n      <td>0.0</td>\n      <td>0.0</td>\n    </tr>\n    <tr>\n      <th>2</th>\n      <td>2</td>\n      <td>2</td>\n      <td>2021-07-01 00:07:56</td>\n      <td>2</td>\n      <td>1365</td>\n      <td>2920.00</td>\n      <td>476</td>\n      <td>0</td>\n      <td>0</td>\n      <td>0</td>\n      <td>...</td>\n      <td>1.0</td>\n      <td>2920.00</td>\n      <td>1.0</td>\n      <td>2920.00</td>\n      <td>0.0</td>\n      <td>0.0</td>\n      <td>0.0</td>\n      <td>0.0</td>\n      <td>0.0</td>\n      <td>0.0</td>\n    </tr>\n    <tr>\n      <th>3</th>\n      <td>3</td>\n      <td>3</td>\n      <td>2021-07-01 00:09:29</td>\n      <td>4128</td>\n      <td>8737</td>\n      <td>1289.88</td>\n      <td>569</td>\n      <td>0</td>\n      <td>0</td>\n      <td>0</td>\n      <td>...</td>\n      <td>1.0</td>\n      <td>1289.88</td>\n      <td>1.0</td>\n      <td>1289.88</td>\n      <td>0.0</td>\n      <td>0.0</td>\n      <td>0.0</td>\n      <td>0.0</td>\n      <td>0.0</td>\n      <td>0.0</td>\n    </tr>\n    <tr>\n      <th>4</th>\n      <td>4</td>\n      <td>4</td>\n      <td>2021-07-01 00:10:34</td>\n      <td>927</td>\n      <td>9906</td>\n      <td>1019.77</td>\n      <td>634</td>\n      <td>0</td>\n      <td>0</td>\n      <td>0</td>\n      <td>...</td>\n      <td>1.0</td>\n      <td>1019.77</td>\n      <td>1.0</td>\n      <td>1019.77</td>\n      <td>0.0</td>\n      <td>0.0</td>\n      <td>0.0</td>\n      <td>0.0</td>\n      <td>0.0</td>\n      <td>0.0</td>\n    </tr>\n  </tbody>\n</table>\n<p>5 rows × 24 columns</p>\n</div>"
     },
     "execution_count": 5,
     "metadata": {},
     "output_type": "execute_result"
    }
   ],
   "source": [
    "transactions_df.head()"
   ],
   "metadata": {
    "collapsed": false,
    "pycharm": {
     "name": "#%%\n"
    }
   }
  },
  {
   "cell_type": "code",
   "execution_count": 6,
   "outputs": [],
   "source": [
    "start_date_training = datetime.datetime.strptime(\"2021-11-25\", \"%Y-%m-%d\")"
   ],
   "metadata": {
    "collapsed": false,
    "pycharm": {
     "name": "#%%\n"
    }
   }
  },
  {
   "cell_type": "code",
   "execution_count": 7,
   "outputs": [],
   "source": [
    "(train_df, test_df)=get_train_test_set(transactions_df,start_date_training,\n",
    "                                       delta_train=7,delta_delay=7,delta_test=7)"
   ],
   "metadata": {
    "collapsed": false,
    "pycharm": {
     "name": "#%%\n"
    }
   }
  },
  {
   "cell_type": "code",
   "execution_count": 8,
   "outputs": [],
   "source": [
    "output_feature=\"TX_FRAUD\"\n",
    "\n",
    "input_features=['TX_AMOUNT','TX_DURING_WEEKEND', 'TX_DURING_NIGHT', 'CUSTOMER_ID_NB_TX_1DAY_WINDOW',\n",
    "       'CUSTOMER_ID_AVG_AMOUNT_1DAY_WINDOW', 'CUSTOMER_ID_NB_TX_7DAY_WINDOW',\n",
    "       'CUSTOMER_ID_AVG_AMOUNT_7DAY_WINDOW', 'CUSTOMER_ID_NB_TX_30DAY_WINDOW',\n",
    "       'CUSTOMER_ID_AVG_AMOUNT_30DAY_WINDOW', 'TERMINAL_ID_NB_TX_1DAY_WINDOW',\n",
    "       'TERMINAL_ID_RISK_1DAY_WINDOW', 'TERMINAL_ID_NB_TX_7DAY_WINDOW',\n",
    "       'TERMINAL_ID_RISK_7DAY_WINDOW', 'TERMINAL_ID_NB_TX_30DAY_WINDOW',\n",
    "       'TERMINAL_ID_RISK_30DAY_WINDOW']"
   ],
   "metadata": {
    "collapsed": false,
    "pycharm": {
     "name": "#%%\n"
    }
   }
  },
  {
   "cell_type": "code",
   "execution_count": 9,
   "outputs": [],
   "source": [
    "(train_df, test_df)=scaleData(train_df,test_df,input_features)"
   ],
   "metadata": {
    "collapsed": false,
    "pycharm": {
     "name": "#%%\n"
    }
   }
  },
  {
   "cell_type": "code",
   "execution_count": 10,
   "outputs": [],
   "source": [
    "classifier = xgboost.XGBClassifier(random_state=0,n_jobs=-1)"
   ],
   "metadata": {
    "collapsed": false,
    "pycharm": {
     "name": "#%%\n"
    }
   }
  },
  {
   "cell_type": "code",
   "execution_count": 11,
   "outputs": [
    {
     "name": "stdout",
     "output_type": "stream",
     "text": [
      "[19:58:04] WARNING: C:/Users/Administrator/workspace/xgboost-win64_release_1.5.1/src/learner.cc:1115: Starting in XGBoost 1.3.0, the default evaluation metric used with the objective 'binary:logistic' was changed from 'error' to 'logloss'. Explicitly set eval_metric if you'd like to restore the old behavior.\n"
     ]
    },
    {
     "data": {
      "text/plain": "XGBClassifier(base_score=0.5, booster='gbtree', colsample_bylevel=1,\n              colsample_bynode=1, colsample_bytree=1, enable_categorical=False,\n              gamma=0, gpu_id=-1, importance_type=None,\n              interaction_constraints='', learning_rate=0.300000012,\n              max_delta_step=0, max_depth=6, min_child_weight=1, missing=nan,\n              monotone_constraints='()', n_estimators=100, n_jobs=-1,\n              num_parallel_tree=1, predictor='auto', random_state=0,\n              reg_alpha=0, reg_lambda=1, scale_pos_weight=1, subsample=1,\n              tree_method='exact', validate_parameters=1, verbosity=None)"
     },
     "execution_count": 11,
     "metadata": {},
     "output_type": "execute_result"
    }
   ],
   "source": [
    "classifier.fit(train_df[input_features], train_df[output_feature])"
   ],
   "metadata": {
    "collapsed": false,
    "pycharm": {
     "name": "#%%\n"
    }
   }
  },
  {
   "cell_type": "code",
   "execution_count": 12,
   "outputs": [],
   "source": [
    "predictions_test=classifier.predict_proba(test_df[input_features])[:,1]"
   ],
   "metadata": {
    "collapsed": false,
    "pycharm": {
     "name": "#%%\n"
    }
   }
  },
  {
   "cell_type": "code",
   "execution_count": 13,
   "outputs": [],
   "source": [
    "predictions_train=classifier.predict_proba(train_df[input_features])[:,1]"
   ],
   "metadata": {
    "collapsed": false,
    "pycharm": {
     "name": "#%%\n"
    }
   }
  },
  {
   "cell_type": "code",
   "execution_count": 14,
   "outputs": [],
   "source": [
    "train_df['TX_FRAUD_PREDICTED']=predictions_train"
   ],
   "metadata": {
    "collapsed": false,
    "pycharm": {
     "name": "#%%\n"
    }
   }
  },
  {
   "cell_type": "code",
   "execution_count": 15,
   "outputs": [],
   "source": [
    "test_df['TX_FRAUD_PREDICTED']=predictions_test"
   ],
   "metadata": {
    "collapsed": false,
    "pycharm": {
     "name": "#%%\n"
    }
   }
  },
  {
   "cell_type": "code",
   "execution_count": 16,
   "outputs": [
    {
     "data": {
      "text/plain": "array([9.9566442e-01, 5.5838205e-05, 2.3420146e-04, ..., 5.1771603e-03,\n       3.1502231e-03, 4.2049885e-03], dtype=float32)"
     },
     "execution_count": 16,
     "metadata": {},
     "output_type": "execute_result"
    }
   ],
   "source": [
    "predictions_train"
   ],
   "metadata": {
    "collapsed": false,
    "pycharm": {
     "name": "#%%\n"
    }
   }
  },
  {
   "cell_type": "code",
   "execution_count": 17,
   "outputs": [
    {
     "data": {
      "text/plain": "array([0.00157972, 0.0001757 , 0.0038097 , ..., 0.0013182 , 0.00098514,\n       0.00103186], dtype=float32)"
     },
     "execution_count": 17,
     "metadata": {},
     "output_type": "execute_result"
    }
   ],
   "source": [
    "predictions_test"
   ],
   "metadata": {
    "collapsed": false,
    "pycharm": {
     "name": "#%%\n"
    }
   }
  },
  {
   "cell_type": "code",
   "execution_count": 18,
   "outputs": [
    {
     "data": {
      "text/plain": "0.9998657187080929"
     },
     "execution_count": 18,
     "metadata": {},
     "output_type": "execute_result"
    }
   ],
   "source": [
    "roc_auc_score(train_df['TX_FRAUD'], train_df['TX_FRAUD_PREDICTED'])"
   ],
   "metadata": {
    "collapsed": false,
    "pycharm": {
     "name": "#%%\n"
    }
   }
  },
  {
   "cell_type": "code",
   "execution_count": 19,
   "outputs": [
    {
     "data": {
      "text/plain": "0.8692832197592001"
     },
     "execution_count": 19,
     "metadata": {},
     "output_type": "execute_result"
    }
   ],
   "source": [
    "roc_auc_score(test_df['TX_FRAUD'], test_df['TX_FRAUD_PREDICTED'])"
   ],
   "metadata": {
    "collapsed": false,
    "pycharm": {
     "name": "#%%\n"
    }
   }
  }
 ],
 "metadata": {
  "kernelspec": {
   "display_name": "Python 3",
   "language": "python",
   "name": "python3"
  },
  "language_info": {
   "codemirror_mode": {
    "name": "ipython",
    "version": 2
   },
   "file_extension": ".py",
   "mimetype": "text/x-python",
   "name": "python",
   "nbconvert_exporter": "python",
   "pygments_lexer": "ipython2",
   "version": "2.7.6"
  }
 },
 "nbformat": 4,
 "nbformat_minor": 0
}